{
 "cells": [
  {
   "cell_type": "code",
   "execution_count": 121,
   "metadata": {
    "collapsed": false
   },
   "outputs": [],
   "source": [
    "import nltk\n",
    "from nltk.corpus import brown\n",
    "import re\n",
    "\n",
    "from nltk.corpus import wordnet\n",
    "from nltk.stem import WordNetLemmatizer\n",
    "wordnet_lemmatizer = WordNetLemmatizer()\n",
    "\n",
    "# Import lexicon\n",
    "from nltk.corpus import words\n",
    "lex = words.words('en')"
   ]
  },
  {
   "cell_type": "code",
   "execution_count": 122,
   "metadata": {
    "collapsed": true
   },
   "outputs": [],
   "source": [
    "# Prefixes of interest\n",
    "prefixes = \"un|non|dis|in\"\n",
    "\n",
    "# Function to replace treebank tag with a wordnet tag to use with the Lemmatizer\n",
    "def get_wordnet_pos(treebank_tag):\n",
    "    if treebank_tag.startswith('J'):\n",
    "        return wordnet.ADJ\n",
    "    elif treebank_tag.startswith('V'):\n",
    "        return wordnet.VERB\n",
    "    elif treebank_tag.startswith('N'):\n",
    "        return wordnet.NOUN\n",
    "    elif treebank_tag.startswith('R'):\n",
    "        return wordnet.ADV\n",
    "    else:\n",
    "        # Unfortunately, wordnet only supports adjective, verb, noun and adverb parts of speech\n",
    "        # So, any word whose POS is not covered by wordnet will default to NOUN\n",
    "        return wordnet.NOUN\n",
    "\n",
    "def tokenize(corpus):\n",
    "    return corpus.words()\n",
    "\n",
    "def tuplize(matched_word):  \n",
    "    word = matched_word[0]\n",
    "    tag = matched_word[1]\n",
    "    # Separate prefix from stem\n",
    "    prefix = re.match(prefixes, word).group(0)\n",
    "    stem = re.sub(prefix, '', word, count=1)\n",
    "    lem_stem = wordnet_lemmatizer.lemmatize(stem, pos=(get_wordnet_pos(tag)))\n",
    "    return (word, tag, prefix, stem, lem_stem)\n",
    "        \n",
    "corpus_words = tokenize(brown)"
   ]
  },
  {
   "cell_type": "code",
   "execution_count": 123,
   "metadata": {
    "collapsed": false
   },
   "outputs": [],
   "source": [
    "# Step 1: Get all tokens that have prefixes of interest\n",
    "pattern = r'\\bun\\w+|\\bnon\\w+|\\bdis\\w+|\\bin\\w+'\n",
    "prefixed_words = list(set([w for w in corpus_words if re.match(pattern, w) and len(w) > 3]))\n",
    "\n",
    "# Step 2: Tag words\n",
    "# Words_tagged is a list of tuples containing (word, tag)\n",
    "words_tagged = nltk.pos_tag(prefixed_words)"
   ]
  },
  {
   "cell_type": "code",
   "execution_count": 124,
   "metadata": {
    "collapsed": false
   },
   "outputs": [
    {
     "name": "stdout",
     "output_type": "stream",
     "text": [
      "Matched words = 2304\n",
      "Matched words after filtering = 1220\n"
     ]
    }
   ],
   "source": [
    "words_of_interest = [tuplize(w) for w in words_tagged]\n",
    "print(\"Matched words = {}\".format(len(words_of_interest)))\n",
    "\n",
    "# Step 3: Get rid of erroneous words of interest\n",
    "# Check if stem is in the lexicon\n",
    "# If so, the prefix is negating and keep the word\n",
    "# If not, discard the word\n",
    "filtered = [w for w in words_of_interest if w[4] in lex]\n",
    "\n",
    "print(\"Matched words after filtering = {}\".format(len(filtered)))"
   ]
  },
  {
   "cell_type": "code",
   "execution_count": 125,
   "metadata": {
    "collapsed": false
   },
   "outputs": [],
   "source": [
    "filtered_words = [f[0] for f in filtered]\n",
    "prefixes = \"un|non|dis|in\""
   ]
  },
  {
   "cell_type": "code",
   "execution_count": 134,
   "metadata": {
    "collapsed": false
   },
   "outputs": [
    {
     "name": "stdout",
     "output_type": "stream",
     "text": [
      "0.0018963272223714942\n",
      "8.956313856795431e-05\n",
      "0.0011979069783463888\n",
      "0.0030373960550882195\n"
     ]
    }
   ],
   "source": [
    "# Step 3: Analysis\n",
    "\n",
    "# Token frequency: Number of actual words formed according to a certain pattern over the corpus\n",
    "size = len(corpus_words)\n",
    "un_tk_freq = non_tk_freq = dis_tk_freq = in_tk_freq = 0\n",
    "for c in corpus_words:\n",
    "    if c in filtered_words:\n",
    "        # Compute frequencies\n",
    "        prefix = re.match(prefixes, c).group(0)\n",
    "        if prefix == \"un\":\n",
    "            un_tk_freq += 1\n",
    "        elif prefix == \"non\":\n",
    "            non_tk_freq += 1\n",
    "        elif prefix == \"dis\":\n",
    "            dis_tk_freq += 1\n",
    "        else:\n",
    "            in_tk_freq += 1\n",
    "\n",
    "un_tk_freq /= size\n",
    "non_tk_freq /= size\n",
    "dis_tk_freq /= size\n",
    "in_tk_freq /= size\n",
    "    \n",
    "print(un_tk_freq)\n",
    "print(non_tk_freq)\n",
    "print(dis_tk_freq)\n",
    "print(in_tk_freq)"
   ]
  },
  {
   "cell_type": "code",
   "execution_count": 127,
   "metadata": {
    "collapsed": false
   },
   "outputs": [
    {
     "name": "stdout",
     "output_type": "stream",
     "text": [
      "41.885245901639344\n",
      "4.098360655737705\n",
      "20.81967213114754\n",
      "33.19672131147541\n"
     ]
    }
   ],
   "source": [
    "# Type frequency: Number of unique words formed according to a certain pattern over the lexicon\n",
    "\n",
    "size = len(filtered)\n",
    "un_ty_freq = non_ty_freq = dis_ty_freq = in_ty_freq = 0\n",
    "for f in filtered:\n",
    "    word = f[0]\n",
    "    tag = f[1]\n",
    "    prefix = f[2]\n",
    "    stem = f[3]\n",
    "    lem_stem = f[4]\n",
    "    # Compute frequencies\n",
    "    if prefix == \"un\":\n",
    "        un_ty_freq += 1\n",
    "    elif prefix == \"non\":\n",
    "        non_ty_freq += 1\n",
    "    elif prefix == \"dis\":\n",
    "        dis_ty_freq += 1\n",
    "    else:\n",
    "        in_ty_freq += 1\n",
    "\n",
    "un_ty_freq /= size\n",
    "non_ty_freq /= size\n",
    "dis_ty_freq /= size\n",
    "in_ty_freq /= size\n",
    "un_ty_freq *= 100\n",
    "non_ty_freq *= 100\n",
    "dis_ty_freq *= 100\n",
    "in_ty_freq *= 100\n",
    "    \n",
    "print(un_ty_freq)\n",
    "print(non_ty_freq)\n",
    "print(dis_ty_freq)\n",
    "print(in_ty_freq)"
   ]
  },
  {
   "cell_type": "code",
   "execution_count": 136,
   "metadata": {
    "collapsed": false
   },
   "outputs": [
    {
     "data": {
      "image/png": "[encoded data removed]",
      "text/plain": [
       "<matplotlib.figure.Figure at 0x1111b5588>"
      ]
     },
     "metadata": {},
     "output_type": "display_data"
    }
   ],
   "source": [
    "import matplotlib.pyplot as plt\n",
    "%matplotlib inline\n",
    "\n",
    "# Pie chart, where the slices will be ordered and plotted counter-clockwise:\n",
    "labels = 'Un-', 'Non-', 'Dis-', 'In-'\n",
    "sizes = [un_ty_freq, non_ty_freq, dis_ty_freq, in_ty_freq]\n",
    "explode = (0.1, 0, 0, 0)\n",
    "\n",
    "fig1, ax1 = plt.subplots()\n",
    "ax1.pie(sizes, explode=explode, labels=labels, autopct='%1.1f%%',\n",
    "        shadow=True, startangle=90)\n",
    "ax1.axis('equal')  # Equal aspect ratio ensures that pie is drawn as a circle.\n",
    "\n",
    "plt.show()"
   ]
  }
 ],
 "metadata": {
  "kernelspec": {
   "display_name": "Python 3",
   "language": "python",
   "name": "python3"
  },
  "language_info": {
   "codemirror_mode": {
    "name": "ipython",
    "version": 3
   },
   "file_extension": ".py",
   "mimetype": "text/x-python",
   "name": "python",
   "nbconvert_exporter": "python",
   "pygments_lexer": "ipython3",
   "version": "3.5.0"
  }
 },
 "nbformat": 4,
 "nbformat_minor": 2
}
